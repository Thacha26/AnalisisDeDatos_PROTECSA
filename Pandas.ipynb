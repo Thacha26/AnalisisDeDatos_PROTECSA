# Promedio de ingresos brutos de cada tipo de taxi y de todos los taxis
# Qué tipo de taxis recorrieron la mayor cantidad de distancia en Enero
# Qué tipo de taxi recibe más propinas en promedio
# Gráfico de barras reportando el importe del peaje total de cada tipo de Taxi
# Un mapa de calor que describa el comportamiento de a qué hora se tomaron todos los taxis durante los días de Enero
# Un mapa de calor para cada tipo de taxi que reporte los días de Enero en los que más se uso su servicio

import pandas as pd
import seaborn as sns
import matplotlib.pyplot as plt

Amarillo = pd.read_parquet('yellow_tripdata_2025-01.parquet')
Verde = pd.read_parquet('green_tripdata_2025-01.parquet')
fhv = pd.read_parquet('fhv_tripdata_2025-01.parquet')
fhvhv = pd.read_parquet('fhvhv_tripdata_2025-01.parquet')

Ingresos_brutos = {
    'Amarillo': Amarillo['total_amount'].mean(),
    'Verde': Verde['total_amount'].mean(),
    'fhvhv': fhvhv['base_passenger_fare'].mean() 
    #fhv no tiene estos datos
}


distancia_total_Enero = {
    'Amarillo': Amarillo['trip_distance'].sum(),
    'Verde': Verde['trip_distance'].sum(),
    'fhvhv': fhvhv['trip_miles'].sum() 
        #fhv no tiene estos datos
}

Propina = {
    'Amarillo': Amarillo['tip_amount'].mean(),
    'Verde': Verde['tip_amount'].mean(),
    'fhvhv': fhvhv['tips'].mean() 
     #fhv no tiene estos datos
}

categorias = ['Amarillo', 'Verde', 'fhvhv']
valores = [
    Amarillo['tolls_amount'].sum(),
    Verde['tolls_amount'].sum(),
    fhvhv['tolls'].sum()
     #fhv no tiene estos datos

]
print("\nColumnas en Amarillo Taxi:", Amarillo.columns.tolist())
print("\nColumnas en Verde Taxi:", Verde.columns.tolist())
print("\nColumnas en fhv:", fhv.columns.tolist())
print("\nColumnas en fhvhv:", fhvhv.columns.tolist())

print("\n1. Promedio de ingresos brutos:")
print(pd.DataFrame.from_dict(Ingresos_brutos, orient='index', columns=['Ingreso Promedio (USD)']))

print("\n2. Distancia total recorrida en Enero:")
distancia_total_Enero_df = pd.DataFrame.from_dict(distancia_total_Enero, orient='index', columns=['Distancia (millas)'])
distancia_total_Enero_df['Distancia (millas)'] = distancia_total_Enero_df['Distancia (millas)'].apply(
    lambda x: f"{x:,.0f}"  # , = separador de miles, .0f = 0 decimales
)
max_taxi = distancia_total_Enero_df['Distancia (millas)'].idxmax()
max_dist = distancia_total_Enero_df.loc[max_taxi, 'Distancia (millas)']
print(f"\n• Taxi con mayor distancia: {max_taxi} ({max_dist} millas)")

print("\n3. Propinas promedio:")
Propina_df = pd.DataFrame.from_dict(Propina, orient='index')
print(Propina_df)
print(f"\nTaxi con mayores propinas: {Propina_df.idxmax()[0]} (${Propina_df.max()[0]:.2f} en promedio)")

# Gráfica de barras 
plt.figure(figsize=(5, 5))

# Crear el gráfico de barras 
plt.bar(categorias, valores, color=['gold', 'green', 'royalblue'])

# Título y etiquetas
plt.title('Total de peajes por tipo de taxi')
plt.xlabel('Tipo de taxi')
plt.ylabel('USD ($)')

# Mostrar el gráfico
plt.show()


#Gráfico de calor para todos los viajes de taxis
todos_viajes = pd.concat([
    Amarillo[['tpep_pickup_datetime']],
    Verde[['lpep_pickup_datetime']].rename(columns={'lpep_pickup_datetime': 'tpep_pickup_datetime'}),
    fhvhv[['pickup_datetime']].rename(columns={'pickup_datetime': 'tpep_pickup_datetime'}),
    fhv[['pickup_datetime']].rename(columns={'pickup_datetime': 'tpep_pickup_datetime'})
])
todos_viajes['hora'] = todos_viajes['tpep_pickup_datetime'].dt.hour
todos_viajes['dia'] = todos_viajes['tpep_pickup_datetime'].dt.day
matriz = todos_viajes.groupby(['hora', 'dia']).size().unstack()

# No pude jugar mmucho con el tamaño de las gráficas poque se me crasheabael kernel:
# The Kernel crashed while executing code in the current cell or a previous cell. 

plt.figure(figsize=(10, 5))
plt.imshow(matriz, cmap='hot', interpolation='nearest')
# Añade una barra de colores al lado del gráfico para mostrar la escala de colores
plt.colorbar()

#Título de la primera gráfica
plt.title('Viajes por Hora y Día (Todos los taxis)')
plt.show()

#Gráfica por taxi
def mapa_calor_por_taxi(df, col_tiempo, titulo): # se crea la función que recibe 3 el nombre del taxi, la columna con fechas y el título de la gráfica
    df['hora'] = df[col_tiempo].dt.hour # para obtener la hora en un formato de 24 horas, pero no inicia desde el 1 si no desde el 0
    df['dia'] = df[col_tiempo].dt.day # obtiene el día del mes del 1 al 31
    matriz = df.groupby(['hora', 'dia']).size().unstack() # se cuentan los viajes que hubieron y se ponen en forma de tabla
    
    plt.figure(figsize=(10, 5)) # se establece el tamaño del grfico
    plt.imshow(matriz, cmap='hot', interpolation='nearest')
    plt.colorbar()
    plt.title(titulo)
    plt.show()

mapa_calor_por_taxi(Amarillo, 'tpep_pickup_datetime', 'Viajes - Taxi Amarillo')
mapa_calor_por_taxi(Verde, 'lpep_pickup_datetime', 'Viajes - Taxi Verde')
mapa_calor_por_taxi(fhv, 'pickup_datetime', 'Viajes - fhv')
mapa_calor_por_taxi(fhvhv, 'pickup_datetime', 'Viajes - fhvhv')
